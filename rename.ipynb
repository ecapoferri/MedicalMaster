{
 "cells": [
  {
   "cell_type": "code",
   "execution_count": 12,
   "metadata": {},
   "outputs": [],
   "source": [
    "from pathlib import Path\n",
    "\n",
    "name_glob: str = '* - Message Data*xls'\n",
    "dir_pth_str: str = 'RPRT.AF'\n"
   ]
  },
  {
   "cell_type": "code",
   "execution_count": 13,
   "metadata": {},
   "outputs": [],
   "source": [
    "pth: Path = Path(dir_pth_str)\n",
    "flst: list[Path] = list(pth.glob(name_glob))\n",
    "if len(flst) <= 0:\n",
    "    raise ValueError(f\"No matching files!\")"
   ]
  },
  {
   "cell_type": "code",
   "execution_count": 19,
   "metadata": {},
   "outputs": [
    {
     "name": "stdout",
     "output_type": "stream",
     "text": [
      "writing sh/local_repos/RPRT.AF/11888 - Message Data.2022-10-20.xls to sh/local_repos/RPRT.AF/RPRT.AF-msg_data_11888.2022-10-20.xls\n",
      "Deleting sh/local_repos/RPRT.AF/11888 - Message Data.2022-10-20.xls\n",
      "writing sh/local_repos/RPRT.AF/11888 - Message Data.2022-10-21.xls to sh/local_repos/RPRT.AF/RPRT.AF-msg_data_11888.2022-10-21.xls\n",
      "Deleting sh/local_repos/RPRT.AF/11888 - Message Data.2022-10-21.xls\n",
      "writing sh/local_repos/RPRT.AF/11888 - Message Data.2022-10-22.xls to sh/local_repos/RPRT.AF/RPRT.AF-msg_data_11888.2022-10-22.xls\n",
      "Deleting sh/local_repos/RPRT.AF/11888 - Message Data.2022-10-22.xls\n",
      "writing sh/local_repos/RPRT.AF/7930 - Message Data.2022-10-21.xls to sh/local_repos/RPRT.AF/RPRT.AF-msg_data_7930.2022-10-21.xls\n",
      "Deleting sh/local_repos/RPRT.AF/7930 - Message Data.2022-10-21.xls\n",
      "writing sh/local_repos/RPRT.AF/7930 - Message Data.2022-10-22.xls to sh/local_repos/RPRT.AF/RPRT.AF-msg_data_7930.2022-10-22.xls\n",
      "Deleting sh/local_repos/RPRT.AF/7930 - Message Data.2022-10-22.xls\n",
      "writing sh/local_repos/RPRT.AF/9816 - Message Data.2022-10-20.xls to sh/local_repos/RPRT.AF/RPRT.AF-msg_data_9816.2022-10-20.xls\n",
      "Deleting sh/local_repos/RPRT.AF/9816 - Message Data.2022-10-20.xls\n",
      "writing sh/local_repos/RPRT.AF/9816 - Message Data.2022-10-21.xls to sh/local_repos/RPRT.AF/RPRT.AF-msg_data_9816.2022-10-21.xls\n",
      "Deleting sh/local_repos/RPRT.AF/9816 - Message Data.2022-10-21.xls\n",
      "writing sh/local_repos/RPRT.AF/9816 - Message Data.2022-10-22.xls to sh/local_repos/RPRT.AF/RPRT.AF-msg_data_9816.2022-10-22.xls\n",
      "Deleting sh/local_repos/RPRT.AF/9816 - Message Data.2022-10-22.xls\n"
     ]
    }
   ],
   "source": [
    "pr: str = 'RPRT.AF-msg_data_'\n",
    "rpl_ptn: str = ' - Message Data'\n",
    "rpl_str: str = ''\n",
    "for f in flst:\n",
    "    new_fn: str = pr + f.name.replace(rpl_ptn, rpl_str)\n",
    "    out_pth: Path = pth / Path(new_fn)\n",
    "    print(f\"writing {f} to {out_pth}\")\n",
    "    out_pth.write_bytes(f.read_bytes())\n",
    "    print(f\"Deleting {f}\")\n",
    "    f.unlink()"
   ]
  },
  {
   "cell_type": "code",
   "execution_count": 16,
   "metadata": {},
   "outputs": [
    {
     "data": {
      "text/plain": [
       "'RPRT.AF-msg_data_11888.2022-10-20.xls'"
      ]
     },
     "execution_count": 16,
     "metadata": {},
     "output_type": "execute_result"
    }
   ],
   "source": [
    "pr: str = 'RPRT.AF-msg_data_'\n",
    "pr + '11888 - Message Data.2022-10-20.xls'.replace(' - Message Data', '')\n"
   ]
  }
 ],
 "metadata": {
  "kernelspec": {
   "display_name": "Python 3.10.6 ('primedia')",
   "language": "python",
   "name": "python3"
  },
  "language_info": {
   "codemirror_mode": {
    "name": "ipython",
    "version": 3
   },
   "file_extension": ".py",
   "mimetype": "text/x-python",
   "name": "python",
   "nbconvert_exporter": "python",
   "pygments_lexer": "ipython3",
   "version": "3.10.6"
  },
  "orig_nbformat": 4,
  "vscode": {
   "interpreter": {
    "hash": "4662a44a916367df8ac421768d70a5fecce726fb94060a48abc663edd1dcf4c8"
   }
  }
 },
 "nbformat": 4,
 "nbformat_minor": 2
}
