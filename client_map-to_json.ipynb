{
 "cells": [
  {
   "cell_type": "code",
   "execution_count": null,
   "metadata": {},
   "outputs": [],
   "source": [
    "# client_map: Df = (\n",
    "#     pd.ExcelFile('AFDir.xlsx')\n",
    "#     .parse(\n",
    "#         'ClientMap',\n",
    "#         usecols=[\n",
    "#             'af_practice',\n",
    "#             'af_rec_id',\n",
    "#             'af_acct',\n",
    "#             'lead_ref_id',\n",
    "#             'lead_company'\n",
    "#         ]\n",
    "#     )\n",
    "#     .convert_dtypes())\n"
   ]
  }
 ],
 "metadata": {
  "language_info": {
   "name": "python"
  },
  "orig_nbformat": 4
 },
 "nbformat": 4,
 "nbformat_minor": 2
}
