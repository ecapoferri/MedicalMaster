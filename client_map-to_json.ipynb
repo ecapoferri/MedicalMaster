{
 "cells": [
  {
   "cell_type": "code",
   "execution_count": 20,
   "metadata": {},
   "outputs": [],
   "source": [
    "import pandas as pd\n",
    "from pandas import Series as Ser, DataFrame as Df\n",
    "\n",
    "from pathlib import Path\n",
    "\n",
    "from os import environ as os_environ\n",
    "from dotenv import load_dotenv\n",
    "\n",
    "import json\n",
    "\n",
    "load_dotenv()\n",
    "\n",
    "src_dir = Path('/mnt/c/Users/ecapo/OneDrive - Primedia Network, Inc/Reports/MedicalMaster/AFDir')\n",
    "src_fn = 'AFDir.xlsx'\n",
    "src_pth = src_dir / src_fn\n",
    "\n",
    "usecols = [\n",
    "    'af_practice',\n",
    "    'af_rec_id',\n",
    "    'af_acct',\n",
    "    'lead_ref_id',\n",
    "    'lead_company'\n",
    "]\n",
    "sn_nm = 'Sheet1'\n",
    "\n",
    "tblnm: dict[str, str] =  {\"tblnm\": os_environ['PRMDIA_MM_CLIENT_MAP_TBLNM']}\n",
    "\n",
    "json_out = Path('text.json')\n",
    "# json_out = Path(os_environ['PRMDIA_MM_CLIENT_MAP_PTH'])\n"
   ]
  },
  {
   "cell_type": "code",
   "execution_count": 16,
   "metadata": {},
   "outputs": [],
   "source": [
    "\n",
    "client_map: Df = (\n",
    "    pd.ExcelFile(src_pth)\n",
    "    .parse(\n",
    "        sheet_name=sn_nm,\n",
    "        usecols=usecols\n",
    "    )\n",
    "    .convert_dtypes())\n",
    "\n",
    "out_dict = tblnm | {\"map\": client_map.to_dict()}\n"
   ]
  },
  {
   "cell_type": "code",
   "execution_count": 21,
   "metadata": {},
   "outputs": [
    {
     "data": {
      "text/plain": [
       "4244"
      ]
     },
     "execution_count": 21,
     "metadata": {},
     "output_type": "execute_result"
    }
   ],
   "source": [
    "json_out.write_text(json.dumps(obj=out_dict))"
   ]
  }
 ],
 "metadata": {
  "kernelspec": {
   "display_name": "Python 3.11.0 ('primedia')",
   "language": "python",
   "name": "python3"
  },
  "language_info": {
   "codemirror_mode": {
    "name": "ipython",
    "version": 3
   },
   "file_extension": ".py",
   "mimetype": "text/x-python",
   "name": "python",
   "nbconvert_exporter": "python",
   "pygments_lexer": "ipython3",
   "version": "3.11.0"
  },
  "orig_nbformat": 4,
  "vscode": {
   "interpreter": {
    "hash": "4662a44a916367df8ac421768d70a5fecce726fb94060a48abc663edd1dcf4c8"
   }
  }
 },
 "nbformat": 4,
 "nbformat_minor": 2
}
