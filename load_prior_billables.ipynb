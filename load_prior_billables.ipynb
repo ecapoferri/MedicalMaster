{
 "cells": [
  {
   "attachments": {},
   "cell_type": "markdown",
   "metadata": {},
   "source": [
    "# _\n",
    "\n",
    "Meant to be used just once to load prior billables into the database.\n",
    "\n",
    "That table is used to identify duplicate leads in the new data to prevent clients from being double billed."
   ]
  },
  {
   "cell_type": "code",
   "execution_count": 51,
   "metadata": {},
   "outputs": [
    {
     "data": {
      "text/plain": [
       "True"
      ]
     },
     "execution_count": 51,
     "metadata": {},
     "output_type": "execute_result"
    }
   ],
   "source": [
    "from db_engines import wh_db as DB\n",
    "\n",
    "import pandas as pd\n",
    "from pandas import Series as Ser, DataFrame as Df\n",
    "\n",
    "from pathlib import Path\n",
    "from os import environ as os_environ\n",
    "from dotenv import load_dotenv\n",
    "\n",
    "from sqlalchemy.dialects.postgresql import\\\n",
    "    DATE, TIMESTAMP, VARCHAR, INTEGER, BIGINT\n",
    "load_dotenv()\n"
   ]
  },
  {
   "cell_type": "code",
   "execution_count": 52,
   "metadata": {},
   "outputs": [],
   "source": [
    "# CONSTANTS / CONFIG\n",
    "SRC_PTH = Path(os_environ['PRMDIA_MM_PRIOR_BILLABLES_SRCPTH'])\n",
    "\n",
    "TZ_REPORTS_LOCAL = 'US/Central'\n",
    "\n",
    "ASTYPE = {\n",
    "    'callerid': 'Int64',\n",
    "    'delivery_code': 'string',\n",
    "    'practice': 'string',\n",
    "    'caller_name': 'string',\n",
    "    'how_sent': 'string',\n",
    "    'toll': 'Int64',\n",
    "    'call_date': 'datetime64[ns]',\n",
    "    'lead_delivery_date': 'datetime64[ns]',\n",
    "    'processed': f'datetime64[ns, {TZ_REPORTS_LOCAL}]',\n",
    "    'af_acct': 'Int32',\n",
    "    'af_prac_id': 'Int32',\n",
    "}\n",
    "\n",
    "DTYPE = {\n",
    "    'callerid': BIGINT,\n",
    "    'delivery_code': VARCHAR,\n",
    "    'practice': VARCHAR,\n",
    "    'caller_name': VARCHAR,\n",
    "    'how_sent': VARCHAR,\n",
    "    'toll': BIGINT,\n",
    "    'call_date': DATE,\n",
    "    'lead_delivery_date': DATE,\n",
    "    'processed': TIMESTAMP(timezone=True),\n",
    "    'af_acct': INTEGER,\n",
    "    'af_prac_id': INTEGER,\n",
    "}\n",
    "\n",
    "DATE_COLS = [\n",
    "    'call_date',\n",
    "    'lead_delivery_date',\n",
    "    'processed',\n",
    "]\n",
    "\n",
    "DT_TO_LOC = [\n",
    "    'processed',\n",
    "]\n",
    "\n",
    "TBLNM = 'prior_billables'\n",
    "\n",
    "DELIV_FILLNA = ('lead_delivery_date', 'call_date')"
   ]
  },
  {
   "cell_type": "code",
   "execution_count": 53,
   "metadata": {},
   "outputs": [],
   "source": [
    "# EXTRACT\n",
    "df = pd.read_csv(SRC_PTH).convert_dtypes()\n"
   ]
  },
  {
   "cell_type": "code",
   "execution_count": 54,
   "metadata": {},
   "outputs": [],
   "source": [
    "# CLEAN UP DATES/TS\n",
    "for c in DATE_COLS:\n",
    "    df[c] = pd.to_datetime(df[c])\n",
    "\n",
    "for c in DT_TO_LOC:\n",
    "    df[c] = df[c].dt.tz_localize(TZ_REPORTS_LOCAL)\n"
   ]
  },
  {
   "cell_type": "code",
   "execution_count": 55,
   "metadata": {},
   "outputs": [],
   "source": [
    "# FILL IN LEAD DELIVERY DATE\n",
    "df[DELIV_FILLNA[0]] = df[DELIV_FILLNA[0]].fillna(df[DELIV_FILLNA[1]])\n"
   ]
  },
  {
   "cell_type": "code",
   "execution_count": 56,
   "metadata": {},
   "outputs": [],
   "source": [
    "# FINALIZE DTYPES IN DF\n",
    "df = df.astype(ASTYPE)\n"
   ]
  },
  {
   "cell_type": "code",
   "execution_count": 57,
   "metadata": {},
   "outputs": [
    {
     "name": "stdout",
     "output_type": "stream",
     "text": [
      "<class 'pandas.core.frame.DataFrame'>\n",
      "RangeIndex: 9813 entries, 0 to 9812\n",
      "Data columns (total 11 columns):\n",
      " #   Column              Non-Null Count  Dtype                     \n",
      "---  ------              --------------  -----                     \n",
      " 0   callerid            9813 non-null   Int64                     \n",
      " 1   delivery_code       9801 non-null   string                    \n",
      " 2   practice            9809 non-null   string                    \n",
      " 3   caller_name         9813 non-null   string                    \n",
      " 4   how_sent            3664 non-null   string                    \n",
      " 5   toll                9436 non-null   Int64                     \n",
      " 6   call_date           9813 non-null   datetime64[ns]            \n",
      " 7   lead_delivery_date  9813 non-null   datetime64[ns]            \n",
      " 8   processed           8628 non-null   datetime64[ns, US/Central]\n",
      " 9   af_acct             9813 non-null   Int32                     \n",
      " 10  af_prac_id          9565 non-null   Int32                     \n",
      "dtypes: Int32(2), Int64(2), datetime64[ns, US/Central](1), datetime64[ns](2), string(4)\n",
      "memory usage: 805.1 KB\n"
     ]
    }
   ],
   "source": [
    "df.info()"
   ]
  },
  {
   "cell_type": "code",
   "execution_count": 58,
   "metadata": {},
   "outputs": [],
   "source": [
    "# LOAD\n",
    "with DB.connect() as conn:\n",
    "    df.to_sql(\n",
    "        name=TBLNM,\n",
    "        con=conn,\n",
    "        index=False,\n",
    "        if_exists='replace',\n",
    "        dtype=DTYPE\n",
    "    )"
   ]
  }
 ],
 "metadata": {
  "kernelspec": {
   "display_name": "primedia",
   "language": "python",
   "name": "python3"
  },
  "language_info": {
   "codemirror_mode": {
    "name": "ipython",
    "version": 3
   },
   "file_extension": ".py",
   "mimetype": "text/x-python",
   "name": "python",
   "nbconvert_exporter": "python",
   "pygments_lexer": "ipython3",
   "version": "3.11.0"
  },
  "orig_nbformat": 4,
  "vscode": {
   "interpreter": {
    "hash": "4662a44a916367df8ac421768d70a5fecce726fb94060a48abc663edd1dcf4c8"
   }
  }
 },
 "nbformat": 4,
 "nbformat_minor": 2
}
